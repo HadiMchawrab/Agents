{
 "cells": [
  {
   "cell_type": "code",
   "execution_count": 1,
   "id": "14acb103",
   "metadata": {
    "execution": {
     "iopub.execute_input": "2025-04-25T19:39:54.438047Z",
     "iopub.status.busy": "2025-04-25T19:39:54.437227Z",
     "iopub.status.idle": "2025-04-25T19:39:58.075592Z",
     "shell.execute_reply": "2025-04-25T19:39:58.074548Z"
    }
   },
   "outputs": [
    {
     "name": "stdout",
     "output_type": "stream",
     "text": [
      "Requirement already satisfied: pandas in c:\\users\\hadi\\desktop\\aub\\agents\\notebook\\myvenv\\lib\\site-packages (2.2.3)\n",
      "Requirement already satisfied: matplotlib in c:\\users\\hadi\\desktop\\aub\\agents\\notebook\\myvenv\\lib\\site-packages (3.10.1)\n",
      "Requirement already satisfied: seaborn in c:\\users\\hadi\\desktop\\aub\\agents\\notebook\\myvenv\\lib\\site-packages (0.13.2)\n",
      "CPU times: total: 15.6 ms\n",
      "Wall time: 3.63 s\n"
     ]
    },
    {
     "name": "stderr",
     "output_type": "stream",
     "text": [
      "ERROR: Could not find a version that satisfies the requirement os (from versions: none)\n",
      "ERROR: No matching distribution found for os\n"
     ]
    }
   ],
   "source": [
    "%%time\n",
    "!pip install pandas matplotlib seaborn os"
   ]
  },
  {
   "cell_type": "code",
   "execution_count": 2,
   "id": "b7bc2b59",
   "metadata": {
    "execution": {
     "iopub.execute_input": "2025-04-25T19:39:58.080186Z",
     "iopub.status.busy": "2025-04-25T19:39:58.079598Z",
     "iopub.status.idle": "2025-04-25T19:40:00.021978Z",
     "shell.execute_reply": "2025-04-25T19:40:00.021231Z"
    }
   },
   "outputs": [],
   "source": [
    "import pandas as pd\n",
    "import numpy as np\n",
    "import matplotlib.pyplot as plt\n",
    "import seaborn as sns\n",
    "import os\n",
    "\n",
    "%matplotlib inline\n",
    "plt.style.use('seaborn-v0_8')\n",
    "\n",
    "# Create output directory for figures\n",
    "os.makedirs('notebook_output', exist_ok=True)"
   ]
  },
  {
   "cell_type": "code",
   "execution_count": 3,
   "id": "11796fde",
   "metadata": {
    "execution": {
     "iopub.execute_input": "2025-04-25T19:40:00.025428Z",
     "iopub.status.busy": "2025-04-25T19:40:00.024811Z",
     "iopub.status.idle": "2025-04-25T19:40:00.047632Z",
     "shell.execute_reply": "2025-04-25T19:40:00.046484Z"
    }
   },
   "outputs": [
    {
     "name": "stdout",
     "output_type": "stream",
     "text": [
      "data shape: (6819, 7)\n",
      "\n",
      "First few rows:\n",
      "   Bankrupt?   ROA(C) before interest and depreciation before interest  \\\n",
      "0          1                                           0.370594          \n",
      "1          1                                           0.464291          \n",
      "2          1                                           0.426071          \n",
      "3          1                                           0.399844          \n",
      "4          1                                           0.465022          \n",
      "\n",
      "    Total debt/Total net worth   Debt ratio %   Net worth/Assets  \\\n",
      "0                     0.021266       0.207576           0.792424   \n",
      "1                     0.012502       0.171176           0.828824   \n",
      "2                     0.021248       0.207516           0.792484   \n",
      "3                     0.009572       0.151465           0.848535   \n",
      "4                     0.005150       0.106509           0.893491   \n",
      "\n",
      "    Cash Flow to Liability   Net Income to Total Assets  \n",
      "0                 0.458609                     0.716845  \n",
      "1                 0.459001                     0.795297  \n",
      "2                 0.459254                     0.774670  \n",
      "3                 0.448518                     0.739555  \n",
      "4                 0.454411                     0.795016  \n",
      "Columns: ['Bankrupt?', ' ROA(C) before interest and depreciation before interest', ' Total debt/Total net worth', ' Debt ratio %', ' Net worth/Assets', ' Cash Flow to Liability', ' Net Income to Total Assets']\n"
     ]
    }
   ],
   "source": [
    "\n",
    "# Load and preview the df\n",
    "data = pd.read_csv('temp_csv/data.csv')\n",
    "print(\"data shape:\", data.shape)\n",
    "print(\"\\nFirst few rows:\")\n",
    "print(data.head())\n",
    "print(\"Columns:\", data.columns.tolist())\n"
   ]
  },
  {
   "cell_type": "code",
   "execution_count": 4,
   "id": "b774833f",
   "metadata": {
    "execution": {
     "iopub.execute_input": "2025-04-25T19:40:00.051332Z",
     "iopub.status.busy": "2025-04-25T19:40:00.050973Z",
     "iopub.status.idle": "2025-04-25T19:40:11.804096Z",
     "shell.execute_reply": "2025-04-25T19:40:11.803438Z"
    }
   },
   "outputs": [],
   "source": [
    "import pandas as pd\n",
    "import matplotlib.pyplot as plt\n",
    "import seaborn as sns\n",
    "import os\n",
    "\n",
    "# Create directory for output\n",
    "output_dir = 'notebook_output/data'\n",
    "os.makedirs(output_dir, exist_ok=True)\n",
    "\n",
    "# Correlation matrix\n",
    "corr = data.corr()\n",
    "plt.figure(figsize=(10, 8))\n",
    "sns.heatmap(corr, annot=True, cmap='coolwarm', fmt='.2f')\n",
    "plt.title('Correlation Matrix')\n",
    "plt.savefig(f'{output_dir}/banking_figure_1.png')\n",
    "plt.close()\n",
    "\n",
    "# Pairplot\n",
    "sns.pairplot(data, diag_kind='kde')\n",
    "plt.savefig(f'{output_dir}/banking_figure_2.png')\n",
    "plt.close()\n",
    "\n",
    "# Distribution of 'Bankrupt?' column\n",
    "plt.figure(figsize=(6, 4))\n",
    "sns.countplot(x='Bankrupt?', data=data)\n",
    "plt.title('Distribution of Bankrupt?')\n",
    "plt.savefig(f'{output_dir}/banking_figure_3.png')\n",
    "plt.close()\n",
    "\n",
    "# Boxplot for each feature\n",
    "features = [' ROA(C) before interest and depreciation before interest', ' Debt ratio %', ' Net worth/Assets', ' Total debt/Total net worth', ' Cash Flow to Liability', ' Net Income to Total Assets']\n",
    "for i, feature in enumerate(features, start=4):\n",
    "    plt.figure(figsize=(8, 4))\n",
    "    sns.boxplot(x='Bankrupt?', y=feature, data=data)\n",
    "    plt.title(f'Boxplot of {feature} by Bankrupt?')\n",
    "    plt.savefig(f'{output_dir}/banking_figure_{i}.png')\n",
    "    plt.close()"
   ]
  }
 ],
 "metadata": {
  "language_info": {
   "codemirror_mode": {
    "name": "ipython",
    "version": 3
   },
   "file_extension": ".py",
   "mimetype": "text/x-python",
   "name": "python",
   "nbconvert_exporter": "python",
   "pygments_lexer": "ipython3",
   "version": "3.13.3"
  }
 },
 "nbformat": 4,
 "nbformat_minor": 5
}
