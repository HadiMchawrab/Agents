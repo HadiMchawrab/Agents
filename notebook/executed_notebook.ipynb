{
 "cells": [
  {
   "cell_type": "code",
   "execution_count": 1,
   "id": "f16c8e7e",
   "metadata": {
    "execution": {
     "iopub.execute_input": "2025-04-25T17:49:21.614607Z",
     "iopub.status.busy": "2025-04-25T17:49:21.614090Z",
     "iopub.status.idle": "2025-04-25T17:49:24.973618Z",
     "shell.execute_reply": "2025-04-25T17:49:24.972445Z"
    }
   },
   "outputs": [
    {
     "name": "stdout",
     "output_type": "stream",
     "text": [
      "Requirement already satisfied: pandas in c:\\users\\hadi\\desktop\\aub\\agents\\notebook\\myvenv\\lib\\site-packages (2.2.3)\n",
      "Requirement already satisfied: matplotlib in c:\\users\\hadi\\desktop\\aub\\agents\\notebook\\myvenv\\lib\\site-packages (3.10.1)\n",
      "Requirement already satisfied: seaborn in c:\\users\\hadi\\desktop\\aub\\agents\\notebook\\myvenv\\lib\\site-packages (0.13.2)\n",
      "Requirement already satisfied: numpy>=1.26.0 in c:\\users\\hadi\\desktop\\aub\\agents\\notebook\\myvenv\\lib\\site-packages (from pandas) (2.2.5)\n",
      "Requirement already satisfied: python-dateutil>=2.8.2 in c:\\users\\hadi\\desktop\\aub\\agents\\notebook\\myvenv\\lib\\site-packages (from pandas) (2.9.0.post0)\n",
      "Requirement already satisfied: pytz>=2020.1 in c:\\users\\hadi\\desktop\\aub\\agents\\notebook\\myvenv\\lib\\site-packages (from pandas) (2025.2)\n",
      "Requirement already satisfied: tzdata>=2022.7 in c:\\users\\hadi\\desktop\\aub\\agents\\notebook\\myvenv\\lib\\site-packages (from pandas) (2025.2)\n",
      "Requirement already satisfied: contourpy>=1.0.1 in c:\\users\\hadi\\desktop\\aub\\agents\\notebook\\myvenv\\lib\\site-packages (from matplotlib) (1.3.2)\n",
      "Requirement already satisfied: cycler>=0.10 in c:\\users\\hadi\\desktop\\aub\\agents\\notebook\\myvenv\\lib\\site-packages (from matplotlib) (0.12.1)\n",
      "Requirement already satisfied: fonttools>=4.22.0 in c:\\users\\hadi\\desktop\\aub\\agents\\notebook\\myvenv\\lib\\site-packages (from matplotlib) (4.57.0)\n",
      "Requirement already satisfied: kiwisolver>=1.3.1 in c:\\users\\hadi\\desktop\\aub\\agents\\notebook\\myvenv\\lib\\site-packages (from matplotlib) (1.4.8)\n",
      "Requirement already satisfied: packaging>=20.0 in c:\\users\\hadi\\desktop\\aub\\agents\\notebook\\myvenv\\lib\\site-packages (from matplotlib) (25.0)\n",
      "Requirement already satisfied: pillow>=8 in c:\\users\\hadi\\desktop\\aub\\agents\\notebook\\myvenv\\lib\\site-packages (from matplotlib) (11.2.1)\n",
      "Requirement already satisfied: pyparsing>=2.3.1 in c:\\users\\hadi\\desktop\\aub\\agents\\notebook\\myvenv\\lib\\site-packages (from matplotlib) (3.2.3)\n",
      "Requirement already satisfied: six>=1.5 in c:\\users\\hadi\\desktop\\aub\\agents\\notebook\\myvenv\\lib\\site-packages (from python-dateutil>=2.8.2->pandas) (1.17.0)\n",
      "CPU times: total: 15.6 ms\n",
      "Wall time: 3.35 s\n"
     ]
    }
   ],
   "source": [
    "%%time\n",
    "!pip install pandas matplotlib seaborn"
   ]
  },
  {
   "cell_type": "code",
   "execution_count": 2,
   "id": "f8991270",
   "metadata": {
    "execution": {
     "iopub.execute_input": "2025-04-25T17:49:24.977327Z",
     "iopub.status.busy": "2025-04-25T17:49:24.977003Z",
     "iopub.status.idle": "2025-04-25T17:49:27.066932Z",
     "shell.execute_reply": "2025-04-25T17:49:27.065599Z"
    }
   },
   "outputs": [],
   "source": [
    "import pandas as pd\n",
    "import numpy as np\n",
    "import matplotlib.pyplot as plt\n",
    "import seaborn as sns\n",
    "import os\n",
    "\n",
    "%matplotlib inline\n",
    "plt.style.use('seaborn-v0_8')\n",
    "\n",
    "# Create output directory for figures\n",
    "os.makedirs('notebook_output', exist_ok=True)"
   ]
  },
  {
   "cell_type": "code",
   "execution_count": 3,
   "id": "609a243b",
   "metadata": {
    "execution": {
     "iopub.execute_input": "2025-04-25T17:49:27.070517Z",
     "iopub.status.busy": "2025-04-25T17:49:27.070039Z",
     "iopub.status.idle": "2025-04-25T17:49:27.094667Z",
     "shell.execute_reply": "2025-04-25T17:49:27.093803Z"
    }
   },
   "outputs": [
    {
     "name": "stdout",
     "output_type": "stream",
     "text": [
      "data shape: (6819, 7)\n",
      "\n",
      "First few rows:\n",
      "   Bankrupt?   ROA(C) before interest and depreciation before interest  \\\n",
      "0          1                                           0.370594          \n",
      "1          1                                           0.464291          \n",
      "2          1                                           0.426071          \n",
      "3          1                                           0.399844          \n",
      "4          1                                           0.465022          \n",
      "\n",
      "    Total debt/Total net worth   Debt ratio %   Net worth/Assets  \\\n",
      "0                     0.021266       0.207576           0.792424   \n",
      "1                     0.012502       0.171176           0.828824   \n",
      "2                     0.021248       0.207516           0.792484   \n",
      "3                     0.009572       0.151465           0.848535   \n",
      "4                     0.005150       0.106509           0.893491   \n",
      "\n",
      "    Cash Flow to Liability   Net Income to Total Assets  \n",
      "0                 0.458609                     0.716845  \n",
      "1                 0.459001                     0.795297  \n",
      "2                 0.459254                     0.774670  \n",
      "3                 0.448518                     0.739555  \n",
      "4                 0.454411                     0.795016  \n",
      "Columns: ['Bankrupt?', ' ROA(C) before interest and depreciation before interest', ' Total debt/Total net worth', ' Debt ratio %', ' Net worth/Assets', ' Cash Flow to Liability', ' Net Income to Total Assets']\n"
     ]
    }
   ],
   "source": [
    "\n",
    "# Load and preview the df\n",
    "data = pd.read_csv('temp_csv/data.csv')\n",
    "print(\"data shape:\", data.shape)\n",
    "print(\"\\nFirst few rows:\")\n",
    "print(data.head())\n",
    "print(\"Columns:\", data.columns.tolist())\n"
   ]
  },
  {
   "cell_type": "code",
   "execution_count": 4,
   "id": "d9cb71a2",
   "metadata": {
    "execution": {
     "iopub.execute_input": "2025-04-25T17:49:27.099250Z",
     "iopub.status.busy": "2025-04-25T17:49:27.098983Z",
     "iopub.status.idle": "2025-04-25T17:49:39.458504Z",
     "shell.execute_reply": "2025-04-25T17:49:39.457614Z"
    }
   },
   "outputs": [],
   "source": [
    "import pandas as pd\n",
    "import matplotlib.pyplot as plt\n",
    "import seaborn as sns\n",
    "import os\n",
    "\n",
    "# Create output directory\n",
    "output_dir = 'notebook_output/data'\n",
    "os.makedirs(output_dir, exist_ok=True)\n",
    "\n",
    "# Correlation matrix\n",
    "corr = data.corr()\n",
    "plt.figure(figsize=(10, 8))\n",
    "sns.heatmap(corr, annot=True, fmt='.2f', cmap='coolwarm')\n",
    "plt.title('Correlation Matrix')\n",
    "plt.savefig(f'{output_dir}/data_figure_1.png')\n",
    "plt.close()\n",
    "\n",
    "# Pairplot\n",
    "sns.pairplot(data, diag_kind='kde')\n",
    "plt.suptitle('Pairplot of Features', y=1.02)\n",
    "plt.savefig(f'{output_dir}/data_figure_2.png')\n",
    "plt.close()\n",
    "\n",
    "# Distribution of 'Bankrupt?' feature\n",
    "plt.figure(figsize=(6, 4))\n",
    "sns.countplot(x='Bankrupt?', data=data)\n",
    "plt.title('Distribution of Bankrupt?')\n",
    "plt.savefig(f'{output_dir}/data_figure_3.png')\n",
    "plt.close()\n",
    "\n",
    "# Boxplot for 'ROA(C) before interest and depreciation before interest'\n",
    "plt.figure(figsize=(8, 6))\n",
    "sns.boxplot(x='Bankrupt?', y=' ROA(C) before interest and depreciation before interest', data=data)\n",
    "plt.title('ROA(C) by Bankrupt Status')\n",
    "plt.savefig(f'{output_dir}/data_figure_4.png')\n",
    "plt.close()"
   ]
  }
 ],
 "metadata": {
  "language_info": {
   "codemirror_mode": {
    "name": "ipython",
    "version": 3
   },
   "file_extension": ".py",
   "mimetype": "text/x-python",
   "name": "python",
   "nbconvert_exporter": "python",
   "pygments_lexer": "ipython3",
   "version": "3.13.3"
  }
 },
 "nbformat": 4,
 "nbformat_minor": 5
}
