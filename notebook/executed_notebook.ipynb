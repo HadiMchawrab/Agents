{
 "cells": [
  {
   "cell_type": "code",
   "execution_count": 1,
   "id": "699e55d1",
   "metadata": {
    "execution": {
     "iopub.execute_input": "2025-04-25T23:48:56.096804Z",
     "iopub.status.busy": "2025-04-25T23:48:56.095807Z",
     "iopub.status.idle": "2025-04-25T23:48:58.878141Z",
     "shell.execute_reply": "2025-04-25T23:48:58.878141Z"
    }
   },
   "outputs": [
    {
     "name": "stdout",
     "output_type": "stream",
     "text": [
      "Requirement already satisfied: pandas in d:\\devz\\uniworkspace\\agents\\notebook\\venv\\lib\\site-packages (2.2.3)\n",
      "Requirement already satisfied: matplotlib in d:\\devz\\uniworkspace\\agents\\notebook\\venv\\lib\\site-packages (3.10.1)\n",
      "Requirement already satisfied: seaborn in d:\\devz\\uniworkspace\\agents\\notebook\\venv\\lib\\site-packages (0.13.2)\n",
      "Requirement already satisfied: numpy in d:\\devz\\uniworkspace\\agents\\notebook\\venv\\lib\\site-packages (2.2.5)\n",
      "Requirement already satisfied: python-dateutil>=2.8.2 in d:\\devz\\uniworkspace\\agents\\notebook\\venv\\lib\\site-packages (from pandas) (2.9.0.post0)\n",
      "Requirement already satisfied: pytz>=2020.1 in d:\\devz\\uniworkspace\\agents\\notebook\\venv\\lib\\site-packages (from pandas) (2025.2)\n",
      "Requirement already satisfied: tzdata>=2022.7 in d:\\devz\\uniworkspace\\agents\\notebook\\venv\\lib\\site-packages (from pandas) (2025.2)\n",
      "Requirement already satisfied: contourpy>=1.0.1 in d:\\devz\\uniworkspace\\agents\\notebook\\venv\\lib\\site-packages (from matplotlib) (1.3.2)\n",
      "Requirement already satisfied: cycler>=0.10 in d:\\devz\\uniworkspace\\agents\\notebook\\venv\\lib\\site-packages (from matplotlib) (0.12.1)\n",
      "Requirement already satisfied: fonttools>=4.22.0 in d:\\devz\\uniworkspace\\agents\\notebook\\venv\\lib\\site-packages (from matplotlib) (4.57.0)\n",
      "Requirement already satisfied: kiwisolver>=1.3.1 in d:\\devz\\uniworkspace\\agents\\notebook\\venv\\lib\\site-packages (from matplotlib) (1.4.8)\n",
      "Requirement already satisfied: packaging>=20.0 in d:\\devz\\uniworkspace\\agents\\notebook\\venv\\lib\\site-packages (from matplotlib) (25.0)\n",
      "Requirement already satisfied: pillow>=8 in d:\\devz\\uniworkspace\\agents\\notebook\\venv\\lib\\site-packages (from matplotlib) (11.2.1)\n",
      "Requirement already satisfied: pyparsing>=2.3.1 in d:\\devz\\uniworkspace\\agents\\notebook\\venv\\lib\\site-packages (from matplotlib) (3.2.3)\n",
      "Requirement already satisfied: six>=1.5 in d:\\devz\\uniworkspace\\agents\\notebook\\venv\\lib\\site-packages (from python-dateutil>=2.8.2->pandas) (1.17.0)\n",
      "CPU times: total: 31.2 ms\n",
      "Wall time: 2.77 s\n"
     ]
    },
    {
     "name": "stderr",
     "output_type": "stream",
     "text": [
      "\n",
      "[notice] A new release of pip is available: 24.0 -> 25.0.1\n",
      "[notice] To update, run: python.exe -m pip install --upgrade pip\n"
     ]
    }
   ],
   "source": [
    "%%time\n",
    "!pip install pandas matplotlib seaborn numpy"
   ]
  },
  {
   "cell_type": "code",
   "execution_count": 2,
   "id": "1a924125",
   "metadata": {
    "execution": {
     "iopub.execute_input": "2025-04-25T23:48:58.881271Z",
     "iopub.status.busy": "2025-04-25T23:48:58.881271Z",
     "iopub.status.idle": "2025-04-25T23:49:01.203657Z",
     "shell.execute_reply": "2025-04-25T23:49:01.203657Z"
    }
   },
   "outputs": [],
   "source": [
    "import pandas as pd\n",
    "import numpy as np\n",
    "import matplotlib.pyplot as plt\n",
    "import seaborn as sns\n",
    "import os\n",
    "\n",
    "%matplotlib inline\n",
    "plt.style.use('seaborn-v0_8')\n",
    "\n",
    "# Create output directory for figures\n",
    "os.makedirs('notebook_output', exist_ok=True)"
   ]
  },
  {
   "cell_type": "code",
   "execution_count": 3,
   "id": "85fca557",
   "metadata": {
    "execution": {
     "iopub.execute_input": "2025-04-25T23:49:01.208513Z",
     "iopub.status.busy": "2025-04-25T23:49:01.208513Z",
     "iopub.status.idle": "2025-04-25T23:49:01.258655Z",
     "shell.execute_reply": "2025-04-25T23:49:01.258292Z"
    }
   },
   "outputs": [
    {
     "name": "stdout",
     "output_type": "stream",
     "text": [
      "data shape: (41188, 8)\n",
      "\n",
      "First few rows:\n",
      "   age          job  marital          education  default housing loan  \\\n",
      "0   44  blue-collar  married           basic.4y  unknown     yes   no   \n",
      "1   53   technician  married            unknown       no      no   no   \n",
      "2   28   management   single  university.degree       no     yes   no   \n",
      "3   39     services  married        high.school       no      no   no   \n",
      "4   55      retired  married           basic.4y       no     yes   no   \n",
      "\n",
      "   duration  \n",
      "0       210  \n",
      "1       138  \n",
      "2       339  \n",
      "3       185  \n",
      "4       137  \n",
      "Columns: ['age', 'job', 'marital', 'education', 'default', 'housing', 'loan', 'duration']\n"
     ]
    }
   ],
   "source": [
    "\n",
    "# Load and preview the df\n",
    "banking = pd.read_csv('temp_csv/banking.csv')\n",
    "print(\"data shape:\", banking.shape)\n",
    "print(\"\\nFirst few rows:\")\n",
    "print(banking.head())\n",
    "print(\"Columns:\", banking.columns.tolist())\n"
   ]
  },
  {
   "cell_type": "code",
   "execution_count": 4,
   "id": "86a870c2",
   "metadata": {
    "execution": {
     "iopub.execute_input": "2025-04-25T23:49:01.262173Z",
     "iopub.status.busy": "2025-04-25T23:49:01.262173Z",
     "iopub.status.idle": "2025-04-25T23:49:04.438684Z",
     "shell.execute_reply": "2025-04-25T23:49:04.438160Z"
    }
   },
   "outputs": [],
   "source": [
    "import pandas as pd\n",
    "import matplotlib.pyplot as plt\n",
    "import seaborn as sns\n",
    "import numpy as np\n",
    "\n",
    "# Set the style for seaborn\n",
    "sns.set(style='whitegrid')\n",
    "\n",
    "# Create a directory for saving images\n",
    "import os\n",
    "if not os.path.exists('banking'):\n",
    "    os.makedirs('banking')\n",
    "\n",
    "# Visualize the distribution of age\n",
    "plt.figure(figsize=(10, 6))\n",
    "sns.histplot(banking['age'], bins=30, kde=True, color='blue')\n",
    "plt.title('Age Distribution')\n",
    "plt.xlabel('Age')\n",
    "plt.ylabel('Frequency')\n",
    "plt.savefig('notebook_output/banking/age_distribution.png')\n",
    "plt.close()\n",
    "\n",
    "# Visualize the distribution of duration\n",
    "plt.figure(figsize=(10, 6))\n",
    "sns.histplot(banking['duration'], bins=30, kde=True, color='green')\n",
    "plt.title('Duration Distribution')\n",
    "plt.xlabel('Duration')\n",
    "plt.ylabel('Frequency')\n",
    "plt.savefig('notebook_output/banking/duration_distribution.png')\n",
    "plt.close()\n",
    "\n",
    "# Boxplot for age by job\n",
    "plt.figure(figsize=(12, 8))\n",
    "sns.boxplot(x='job', y='age', data=banking)\n",
    "plt.xticks(rotation=45)\n",
    "plt.title('Age by Job')\n",
    "plt.xlabel('Job')\n",
    "plt.ylabel('Age')\n",
    "plt.savefig('notebook_output/banking/age_by_job.png')\n",
    "plt.close()\n",
    "\n",
    "# Boxplot for duration by marital status\n",
    "plt.figure(figsize=(12, 8))\n",
    "sns.boxplot(x='marital', y='duration', data=banking)\n",
    "plt.title('Duration by Marital Status')\n",
    "plt.xlabel('Marital Status')\n",
    "plt.ylabel('Duration')\n",
    "plt.savefig('notebook_output/banking/duration_by_marital.png')\n",
    "plt.close()\n",
    "\n",
    "# Correlation heatmap for numerical features\n",
    "numerical_cols = ['age', 'duration']\n",
    "correlation_matrix = banking[numerical_cols].corr()\n",
    "plt.figure(figsize=(8, 6))\n",
    "sns.heatmap(correlation_matrix, annot=True, cmap='coolwarm', fmt='.2f')\n",
    "plt.title('Correlation Heatmap')\n",
    "plt.savefig('notebook_output/banking/correlation_heatmap.png')\n",
    "plt.close()\n",
    "\n",
    "# Countplot for categorical features\n",
    "plt.figure(figsize=(10, 6))\n",
    "sns.countplot(y='job', data=banking, order=banking['job'].value_counts().index)\n",
    "plt.title('Job Distribution')\n",
    "plt.xlabel('Count')\n",
    "plt.ylabel('Job')\n",
    "plt.savefig('notebook_output/banking/job_distribution.png')\n",
    "plt.close()\n",
    "\n",
    "plt.figure(figsize=(10, 6))\n",
    "sns.countplot(x='marital', data=banking)\n",
    "plt.title('Marital Status Distribution')\n",
    "plt.xlabel('Marital Status')\n",
    "plt.ylabel('Count')\n",
    "plt.savefig('notebook_output/banking/marital_status_distribution.png')\n",
    "plt.close()\n",
    "\n",
    "plt.figure(figsize=(10, 6))\n",
    "sns.countplot(x='education', data=banking)\n",
    "plt.title('Education Distribution')\n",
    "plt.xlabel('Education')\n",
    "plt.ylabel('Count')\n",
    "plt.savefig('notebook_output/banking/education_distribution.png')\n",
    "plt.close()\n",
    "\n",
    "plt.figure(figsize=(10, 6))\n",
    "sns.countplot(x='default', data=banking)\n",
    "plt.title('Default Distribution')\n",
    "plt.xlabel('Default')\n",
    "plt.ylabel('Count')\n",
    "plt.savefig('notebook_output/banking/default_distribution.png')\n",
    "plt.close()\n",
    "\n",
    "plt.figure(figsize=(10, 6))\n",
    "sns.countplot(x='housing', data=banking)\n",
    "plt.title('Housing Loan Distribution')\n",
    "plt.xlabel('Housing Loan')\n",
    "plt.ylabel('Count')\n",
    "plt.savefig('notebook_output/banking/housing_loan_distribution.png')\n",
    "plt.close()\n",
    "\n",
    "plt.figure(figsize=(10, 6))\n",
    "sns.countplot(x='loan', data=banking)\n",
    "plt.title('Personal Loan Distribution')\n",
    "plt.xlabel('Personal Loan')\n",
    "plt.ylabel('Count')\n",
    "plt.savefig('notebook_output/banking/personal_loan_distribution.png')\n",
    "plt.close()"
   ]
  }
 ],
 "metadata": {
  "language_info": {
   "codemirror_mode": {
    "name": "ipython",
    "version": 3
   },
   "file_extension": ".py",
   "mimetype": "text/x-python",
   "name": "python",
   "nbconvert_exporter": "python",
   "pygments_lexer": "ipython3",
   "version": "3.11.8"
  }
 },
 "nbformat": 4,
 "nbformat_minor": 5
}
