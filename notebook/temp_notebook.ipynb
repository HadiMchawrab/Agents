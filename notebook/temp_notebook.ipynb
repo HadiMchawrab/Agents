{
 "cells": [
  {
   "cell_type": "code",
   "execution_count": null,
   "id": "14acb103",
   "metadata": {},
   "outputs": [],
   "source": [
    "%%time\n",
    "!pip install pandas matplotlib seaborn os"
   ]
  },
  {
   "cell_type": "code",
   "execution_count": null,
   "id": "b7bc2b59",
   "metadata": {},
   "outputs": [],
   "source": [
    "import pandas as pd\n",
    "import numpy as np\n",
    "import matplotlib.pyplot as plt\n",
    "import seaborn as sns\n",
    "import os\n",
    "\n",
    "%matplotlib inline\n",
    "plt.style.use('seaborn-v0_8')\n",
    "\n",
    "# Create output directory for figures\n",
    "os.makedirs('notebook_output', exist_ok=True)"
   ]
  },
  {
   "cell_type": "code",
   "execution_count": null,
   "id": "11796fde",
   "metadata": {},
   "outputs": [],
   "source": [
    "\n",
    "# Load and preview the df\n",
    "data = pd.read_csv('temp_csv/data.csv')\n",
    "print(\"data shape:\", data.shape)\n",
    "print(\"\\nFirst few rows:\")\n",
    "print(data.head())\n",
    "print(\"Columns:\", data.columns.tolist())\n"
   ]
  },
  {
   "cell_type": "code",
   "execution_count": null,
   "id": "b774833f",
   "metadata": {},
   "outputs": [],
   "source": [
    "import pandas as pd\n",
    "import matplotlib.pyplot as plt\n",
    "import seaborn as sns\n",
    "import os\n",
    "\n",
    "# Create directory for output\n",
    "output_dir = 'notebook_output/data'\n",
    "os.makedirs(output_dir, exist_ok=True)\n",
    "\n",
    "# Correlation matrix\n",
    "corr = data.corr()\n",
    "plt.figure(figsize=(10, 8))\n",
    "sns.heatmap(corr, annot=True, cmap='coolwarm', fmt='.2f')\n",
    "plt.title('Correlation Matrix')\n",
    "plt.savefig(f'{output_dir}/banking_figure_1.png')\n",
    "plt.close()\n",
    "\n",
    "# Pairplot\n",
    "sns.pairplot(data, diag_kind='kde')\n",
    "plt.savefig(f'{output_dir}/banking_figure_2.png')\n",
    "plt.close()\n",
    "\n",
    "# Distribution of 'Bankrupt?' column\n",
    "plt.figure(figsize=(6, 4))\n",
    "sns.countplot(x='Bankrupt?', data=data)\n",
    "plt.title('Distribution of Bankrupt?')\n",
    "plt.savefig(f'{output_dir}/banking_figure_3.png')\n",
    "plt.close()\n",
    "\n",
    "# Boxplot for each feature\n",
    "features = [' ROA(C) before interest and depreciation before interest', ' Debt ratio %', ' Net worth/Assets', ' Total debt/Total net worth', ' Cash Flow to Liability', ' Net Income to Total Assets']\n",
    "for i, feature in enumerate(features, start=4):\n",
    "    plt.figure(figsize=(8, 4))\n",
    "    sns.boxplot(x='Bankrupt?', y=feature, data=data)\n",
    "    plt.title(f'Boxplot of {feature} by Bankrupt?')\n",
    "    plt.savefig(f'{output_dir}/banking_figure_{i}.png')\n",
    "    plt.close()"
   ]
  }
 ],
 "metadata": {},
 "nbformat": 4,
 "nbformat_minor": 5
}
