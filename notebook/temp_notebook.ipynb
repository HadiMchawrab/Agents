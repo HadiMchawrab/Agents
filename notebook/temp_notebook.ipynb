{
 "cells": [
  {
   "cell_type": "code",
   "execution_count": null,
   "id": "f16c8e7e",
   "metadata": {},
   "outputs": [],
   "source": [
    "%%time\n",
    "!pip install pandas matplotlib seaborn"
   ]
  },
  {
   "cell_type": "code",
   "execution_count": null,
   "id": "f8991270",
   "metadata": {},
   "outputs": [],
   "source": [
    "import pandas as pd\n",
    "import numpy as np\n",
    "import matplotlib.pyplot as plt\n",
    "import seaborn as sns\n",
    "import os\n",
    "\n",
    "%matplotlib inline\n",
    "plt.style.use('seaborn-v0_8')\n",
    "\n",
    "# Create output directory for figures\n",
    "os.makedirs('notebook_output', exist_ok=True)"
   ]
  },
  {
   "cell_type": "code",
   "execution_count": null,
   "id": "609a243b",
   "metadata": {},
   "outputs": [],
   "source": [
    "\n",
    "# Load and preview the df\n",
    "data = pd.read_csv('temp_csv/data.csv')\n",
    "print(\"data shape:\", data.shape)\n",
    "print(\"\\nFirst few rows:\")\n",
    "print(data.head())\n",
    "print(\"Columns:\", data.columns.tolist())\n"
   ]
  },
  {
   "cell_type": "code",
   "execution_count": null,
   "id": "d9cb71a2",
   "metadata": {},
   "outputs": [],
   "source": [
    "import pandas as pd\n",
    "import matplotlib.pyplot as plt\n",
    "import seaborn as sns\n",
    "import os\n",
    "\n",
    "# Create output directory\n",
    "output_dir = 'notebook_output/data'\n",
    "os.makedirs(output_dir, exist_ok=True)\n",
    "\n",
    "# Correlation matrix\n",
    "corr = data.corr()\n",
    "plt.figure(figsize=(10, 8))\n",
    "sns.heatmap(corr, annot=True, fmt='.2f', cmap='coolwarm')\n",
    "plt.title('Correlation Matrix')\n",
    "plt.savefig(f'{output_dir}/data_figure_1.png')\n",
    "plt.close()\n",
    "\n",
    "# Pairplot\n",
    "sns.pairplot(data, diag_kind='kde')\n",
    "plt.suptitle('Pairplot of Features', y=1.02)\n",
    "plt.savefig(f'{output_dir}/data_figure_2.png')\n",
    "plt.close()\n",
    "\n",
    "# Distribution of 'Bankrupt?' feature\n",
    "plt.figure(figsize=(6, 4))\n",
    "sns.countplot(x='Bankrupt?', data=data)\n",
    "plt.title('Distribution of Bankrupt?')\n",
    "plt.savefig(f'{output_dir}/data_figure_3.png')\n",
    "plt.close()\n",
    "\n",
    "# Boxplot for 'ROA(C) before interest and depreciation before interest'\n",
    "plt.figure(figsize=(8, 6))\n",
    "sns.boxplot(x='Bankrupt?', y=' ROA(C) before interest and depreciation before interest', data=data)\n",
    "plt.title('ROA(C) by Bankrupt Status')\n",
    "plt.savefig(f'{output_dir}/data_figure_4.png')\n",
    "plt.close()"
   ]
  }
 ],
 "metadata": {},
 "nbformat": 4,
 "nbformat_minor": 5
}
