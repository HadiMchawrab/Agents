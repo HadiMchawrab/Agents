{
 "cells": [
  {
   "cell_type": "code",
   "execution_count": null,
   "id": "2266c89f",
   "metadata": {},
   "outputs": [],
   "source": [
    "print(\"This is a test cell\")"
   ]
  }
 ],
 "metadata": {},
 "nbformat": 4,
 "nbformat_minor": 5
}
